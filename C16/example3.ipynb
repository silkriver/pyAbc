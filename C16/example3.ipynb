{
 "cells": [
  {
   "cell_type": "code",
   "execution_count": 1,
   "metadata": {
    "scrolled": true
   },
   "outputs": [],
   "source": [
    "# 数据分析库Pandas\n",
    "import pandas as pd"
   ]
  },
  {
   "cell_type": "code",
   "execution_count": 2,
   "metadata": {},
   "outputs": [
    {
     "data": {
      "text/plain": [
       "0    北京\n",
       "1    上海\n",
       "2    广州\n",
       "3    深圳\n",
       "dtype: object"
      ]
     },
     "execution_count": 2,
     "metadata": {},
     "output_type": "execute_result"
    }
   ],
   "source": [
    "# 数据系列类型Series\n",
    "s = pd.Series([\"北京\", \"上海\", \"广州\", \"深圳\"])\n",
    "s"
   ]
  },
  {
   "cell_type": "code",
   "execution_count": 3,
   "metadata": {},
   "outputs": [
    {
     "data": {
      "text/plain": [
       "('北京', '深圳')"
      ]
     },
     "execution_count": 3,
     "metadata": {},
     "output_type": "execute_result"
    }
   ],
   "source": [
    "s[0],s[3]"
   ]
  },
  {
   "cell_type": "code",
   "execution_count": 4,
   "metadata": {},
   "outputs": [
    {
     "data": {
      "text/plain": [
       "Index(['bj', 'sh', 'gz', 'sz'], dtype='object')"
      ]
     },
     "execution_count": 4,
     "metadata": {},
     "output_type": "execute_result"
    }
   ],
   "source": [
    "cityname = pd.Series([\"北京\", \"上海\", \"广州\", \"深圳\"], index=[\"bj\", \"sh\", \"gz\", \"sz\"])\n",
    "cityname.index"
   ]
  },
  {
   "cell_type": "code",
   "execution_count": 5,
   "metadata": {},
   "outputs": [
    {
     "data": {
      "text/plain": [
       "('北京', '上海', '广州', '深圳')"
      ]
     },
     "execution_count": 5,
     "metadata": {},
     "output_type": "execute_result"
    }
   ],
   "source": [
    "cityname[\"bj\"], cityname.loc[\"sh\"], cityname.gz, cityname.iloc[-1]"
   ]
  },
  {
   "cell_type": "code",
   "execution_count": 6,
   "metadata": {},
   "outputs": [
    {
     "data": {
      "text/html": [
       "<div>\n",
       "<style scoped>\n",
       "    .dataframe tbody tr th:only-of-type {\n",
       "        vertical-align: middle;\n",
       "    }\n",
       "\n",
       "    .dataframe tbody tr th {\n",
       "        vertical-align: top;\n",
       "    }\n",
       "\n",
       "    .dataframe thead th {\n",
       "        text-align: right;\n",
       "    }\n",
       "</style>\n",
       "<table border=\"1\" class=\"dataframe\">\n",
       "  <thead>\n",
       "    <tr style=\"text-align: right;\">\n",
       "      <th></th>\n",
       "      <th>名称</th>\n",
       "      <th>人口</th>\n",
       "    </tr>\n",
       "  </thead>\n",
       "  <tbody>\n",
       "    <tr>\n",
       "      <td>bj</td>\n",
       "      <td>北京</td>\n",
       "      <td>1877.70</td>\n",
       "    </tr>\n",
       "    <tr>\n",
       "      <td>gz</td>\n",
       "      <td>广州</td>\n",
       "      <td>1246.83</td>\n",
       "    </tr>\n",
       "    <tr>\n",
       "      <td>sh</td>\n",
       "      <td>上海</td>\n",
       "      <td>2115.00</td>\n",
       "    </tr>\n",
       "    <tr>\n",
       "      <td>sz</td>\n",
       "      <td>深圳</td>\n",
       "      <td>1137.89</td>\n",
       "    </tr>\n",
       "  </tbody>\n",
       "</table>\n",
       "</div>"
      ],
      "text/plain": [
       "    名称       人口\n",
       "bj  北京  1877.70\n",
       "gz  广州  1246.83\n",
       "sh  上海  2115.00\n",
       "sz  深圳  1137.89"
      ]
     },
     "execution_count": 6,
     "metadata": {},
     "output_type": "execute_result"
    }
   ],
   "source": [
    "citypop = {\"bj\": 1877.7, \"sh\": 2115, \"gz\": 1246.83, \"sz\": 1137.89}\n",
    "df = pd.DataFrame({\"名称\": cityname, \"人口\": citypop})\n",
    "df"
   ]
  },
  {
   "cell_type": "code",
   "execution_count": 7,
   "metadata": {},
   "outputs": [
    {
     "data": {
      "text/plain": [
       "bj    1877.70\n",
       "gz    1246.83\n",
       "sh    2115.00\n",
       "sz    1137.89\n",
       "Name: 人口, dtype: float64"
      ]
     },
     "execution_count": 7,
     "metadata": {},
     "output_type": "execute_result"
    }
   ],
   "source": [
    "df.人口"
   ]
  },
  {
   "cell_type": "code",
   "execution_count": 8,
   "metadata": {},
   "outputs": [
    {
     "name": "stdout",
     "output_type": "stream",
     "text": [
      "数据网格形状： (302, 5)\n",
      "各列数据类型：\n",
      "num         int64\n",
      "name       object\n",
      "age         int64\n",
      "year       object\n",
      "dynasty    object\n",
      "dtype: object\n"
     ]
    }
   ],
   "source": [
    "df = pd.read_csv(\"data_emperor.csv\")\n",
    "print(\"数据网格形状：\", df.shape)\n",
    "print(\"各列数据类型：\")\n",
    "print(df.dtypes)"
   ]
  },
  {
   "cell_type": "code",
   "execution_count": 9,
   "metadata": {},
   "outputs": [
    {
     "data": {
      "text/html": [
       "<div>\n",
       "<style scoped>\n",
       "    .dataframe tbody tr th:only-of-type {\n",
       "        vertical-align: middle;\n",
       "    }\n",
       "\n",
       "    .dataframe tbody tr th {\n",
       "        vertical-align: top;\n",
       "    }\n",
       "\n",
       "    .dataframe thead th {\n",
       "        text-align: right;\n",
       "    }\n",
       "</style>\n",
       "<table border=\"1\" class=\"dataframe\">\n",
       "  <thead>\n",
       "    <tr style=\"text-align: right;\">\n",
       "      <th></th>\n",
       "      <th>num</th>\n",
       "      <th>name</th>\n",
       "      <th>age</th>\n",
       "      <th>year</th>\n",
       "      <th>dynasty</th>\n",
       "    </tr>\n",
       "  </thead>\n",
       "  <tbody>\n",
       "    <tr>\n",
       "      <td>0</td>\n",
       "      <td>1</td>\n",
       "      <td>秦始皇嬴政</td>\n",
       "      <td>50</td>\n",
       "      <td>前259年—前210年</td>\n",
       "      <td>秦</td>\n",
       "    </tr>\n",
       "    <tr>\n",
       "      <td>1</td>\n",
       "      <td>2</td>\n",
       "      <td>秦二世嬴胡亥</td>\n",
       "      <td>24</td>\n",
       "      <td>前230年—前207年</td>\n",
       "      <td>秦</td>\n",
       "    </tr>\n",
       "    <tr>\n",
       "      <td>2</td>\n",
       "      <td>3</td>\n",
       "      <td>汉高帝刘邦</td>\n",
       "      <td>62</td>\n",
       "      <td>前256年—前195年</td>\n",
       "      <td>西汉</td>\n",
       "    </tr>\n",
       "    <tr>\n",
       "      <td>3</td>\n",
       "      <td>4</td>\n",
       "      <td>汉惠帝刘盈</td>\n",
       "      <td>23</td>\n",
       "      <td>前210年—前188年</td>\n",
       "      <td>西汉</td>\n",
       "    </tr>\n",
       "    <tr>\n",
       "      <td>4</td>\n",
       "      <td>5</td>\n",
       "      <td>汉文帝刘恒</td>\n",
       "      <td>46</td>\n",
       "      <td>前202年—前157年</td>\n",
       "      <td>西汉</td>\n",
       "    </tr>\n",
       "  </tbody>\n",
       "</table>\n",
       "</div>"
      ],
      "text/plain": [
       "   num    name  age         year dynasty\n",
       "0    1   秦始皇嬴政   50  前259年—前210年       秦\n",
       "1    2  秦二世嬴胡亥   24  前230年—前207年       秦\n",
       "2    3   汉高帝刘邦   62  前256年—前195年      西汉\n",
       "3    4   汉惠帝刘盈   23  前210年—前188年      西汉\n",
       "4    5   汉文帝刘恒   46  前202年—前157年      西汉"
      ]
     },
     "execution_count": 9,
     "metadata": {},
     "output_type": "execute_result"
    }
   ],
   "source": [
    "df.head()"
   ]
  },
  {
   "cell_type": "code",
   "execution_count": 10,
   "metadata": {
    "scrolled": true
   },
   "outputs": [
    {
     "data": {
      "text/html": [
       "<div>\n",
       "<style scoped>\n",
       "    .dataframe tbody tr th:only-of-type {\n",
       "        vertical-align: middle;\n",
       "    }\n",
       "\n",
       "    .dataframe tbody tr th {\n",
       "        vertical-align: top;\n",
       "    }\n",
       "\n",
       "    .dataframe thead th {\n",
       "        text-align: right;\n",
       "    }\n",
       "</style>\n",
       "<table border=\"1\" class=\"dataframe\">\n",
       "  <thead>\n",
       "    <tr style=\"text-align: right;\">\n",
       "      <th></th>\n",
       "      <th>序号</th>\n",
       "      <th>名号</th>\n",
       "      <th>寿命</th>\n",
       "      <th>生卒</th>\n",
       "      <th>朝代</th>\n",
       "    </tr>\n",
       "  </thead>\n",
       "  <tbody>\n",
       "    <tr>\n",
       "      <td>100</td>\n",
       "      <td>100</td>\n",
       "      <td>梁武帝萧衍</td>\n",
       "      <td>86</td>\n",
       "      <td>464年—549年</td>\n",
       "      <td>南朝梁</td>\n",
       "    </tr>\n",
       "    <tr>\n",
       "      <td>149</td>\n",
       "      <td>149</td>\n",
       "      <td>武则天武瞾</td>\n",
       "      <td>82</td>\n",
       "      <td>624年—705年</td>\n",
       "      <td>武周</td>\n",
       "    </tr>\n",
       "    <tr>\n",
       "      <td>208</td>\n",
       "      <td>207</td>\n",
       "      <td>宋高宗赵构</td>\n",
       "      <td>81</td>\n",
       "      <td>1107年—1187年</td>\n",
       "      <td>南宋</td>\n",
       "    </tr>\n",
       "    <tr>\n",
       "      <td>253</td>\n",
       "      <td>252</td>\n",
       "      <td>元世祖孛儿只斤·忽必烈</td>\n",
       "      <td>80</td>\n",
       "      <td>1215年—1294年</td>\n",
       "      <td>元</td>\n",
       "    </tr>\n",
       "    <tr>\n",
       "      <td>295</td>\n",
       "      <td>296</td>\n",
       "      <td>清高宗（乾隆）爱新觉罗·弘历</td>\n",
       "      <td>89</td>\n",
       "      <td>1711年—1799年</td>\n",
       "      <td>清</td>\n",
       "    </tr>\n",
       "  </tbody>\n",
       "</table>\n",
       "</div>"
      ],
      "text/plain": [
       "      序号              名号  寿命           生卒   朝代\n",
       "100  100           梁武帝萧衍  86    464年—549年  南朝梁\n",
       "149  149           武则天武瞾  82    624年—705年   武周\n",
       "208  207           宋高宗赵构  81  1107年—1187年   南宋\n",
       "253  252     元世祖孛儿只斤·忽必烈  80  1215年—1294年    元\n",
       "295  296  清高宗（乾隆）爱新觉罗·弘历  89  1711年—1799年    清"
      ]
     },
     "execution_count": 10,
     "metadata": {},
     "output_type": "execute_result"
    }
   ],
   "source": [
    "df.columns = [\"序号\", \"名号\", \"寿命\", \"生卒\", \"朝代\"]\n",
    "df[df.寿命 >= 80]"
   ]
  },
  {
   "cell_type": "code",
   "execution_count": 11,
   "metadata": {},
   "outputs": [
    {
     "data": {
      "text/html": [
       "<div>\n",
       "<style scoped>\n",
       "    .dataframe tbody tr th:only-of-type {\n",
       "        vertical-align: middle;\n",
       "    }\n",
       "\n",
       "    .dataframe tbody tr th {\n",
       "        vertical-align: top;\n",
       "    }\n",
       "\n",
       "    .dataframe thead th {\n",
       "        text-align: right;\n",
       "    }\n",
       "</style>\n",
       "<table border=\"1\" class=\"dataframe\">\n",
       "  <thead>\n",
       "    <tr style=\"text-align: right;\">\n",
       "      <th></th>\n",
       "      <th>序号</th>\n",
       "      <th>名号</th>\n",
       "      <th>寿命</th>\n",
       "      <th>生卒</th>\n",
       "      <th>朝代</th>\n",
       "    </tr>\n",
       "  </thead>\n",
       "  <tbody>\n",
       "    <tr>\n",
       "      <td>292</td>\n",
       "      <td>293</td>\n",
       "      <td>清世祖（顺治）爱新觉罗·福临</td>\n",
       "      <td>24</td>\n",
       "      <td>1638年—1661年</td>\n",
       "      <td>清</td>\n",
       "    </tr>\n",
       "    <tr>\n",
       "      <td>293</td>\n",
       "      <td>294</td>\n",
       "      <td>清圣祖（康熙）爱新觉罗·玄烨</td>\n",
       "      <td>69</td>\n",
       "      <td>1654年—1722年</td>\n",
       "      <td>清</td>\n",
       "    </tr>\n",
       "    <tr>\n",
       "      <td>294</td>\n",
       "      <td>295</td>\n",
       "      <td>清世宗（雍正）爱新觉罗·胤禛</td>\n",
       "      <td>58</td>\n",
       "      <td>1678年—1735年</td>\n",
       "      <td>清</td>\n",
       "    </tr>\n",
       "    <tr>\n",
       "      <td>295</td>\n",
       "      <td>296</td>\n",
       "      <td>清高宗（乾隆）爱新觉罗·弘历</td>\n",
       "      <td>89</td>\n",
       "      <td>1711年—1799年</td>\n",
       "      <td>清</td>\n",
       "    </tr>\n",
       "    <tr>\n",
       "      <td>296</td>\n",
       "      <td>297</td>\n",
       "      <td>清仁宗（嘉庆）爱新觉罗·颙琰</td>\n",
       "      <td>61</td>\n",
       "      <td>1760年—1820年</td>\n",
       "      <td>清</td>\n",
       "    </tr>\n",
       "    <tr>\n",
       "      <td>297</td>\n",
       "      <td>298</td>\n",
       "      <td>清宣宗（道光）爱新觉罗·旻宁</td>\n",
       "      <td>69</td>\n",
       "      <td>1782年—1850年</td>\n",
       "      <td>清</td>\n",
       "    </tr>\n",
       "    <tr>\n",
       "      <td>298</td>\n",
       "      <td>299</td>\n",
       "      <td>清文宗（咸丰）爱新觉罗·奕詝</td>\n",
       "      <td>31</td>\n",
       "      <td>1831年—1861年</td>\n",
       "      <td>清</td>\n",
       "    </tr>\n",
       "    <tr>\n",
       "      <td>299</td>\n",
       "      <td>300</td>\n",
       "      <td>清穆宗（同治）爱新觉罗·载淳</td>\n",
       "      <td>19</td>\n",
       "      <td>1856年—1875年</td>\n",
       "      <td>清</td>\n",
       "    </tr>\n",
       "    <tr>\n",
       "      <td>300</td>\n",
       "      <td>301</td>\n",
       "      <td>清德宗（光绪）爱新觉罗·载湉</td>\n",
       "      <td>38</td>\n",
       "      <td>1871年—1908年</td>\n",
       "      <td>清</td>\n",
       "    </tr>\n",
       "    <tr>\n",
       "      <td>301</td>\n",
       "      <td>302</td>\n",
       "      <td>清逊帝（宣统）爱新觉罗·溥仪</td>\n",
       "      <td>62</td>\n",
       "      <td>1906年—1967年</td>\n",
       "      <td>清</td>\n",
       "    </tr>\n",
       "  </tbody>\n",
       "</table>\n",
       "</div>"
      ],
      "text/plain": [
       "      序号              名号  寿命           生卒 朝代\n",
       "292  293  清世祖（顺治）爱新觉罗·福临  24  1638年—1661年  清\n",
       "293  294  清圣祖（康熙）爱新觉罗·玄烨  69  1654年—1722年  清\n",
       "294  295  清世宗（雍正）爱新觉罗·胤禛  58  1678年—1735年  清\n",
       "295  296  清高宗（乾隆）爱新觉罗·弘历  89  1711年—1799年  清\n",
       "296  297  清仁宗（嘉庆）爱新觉罗·颙琰  61  1760年—1820年  清\n",
       "297  298  清宣宗（道光）爱新觉罗·旻宁  69  1782年—1850年  清\n",
       "298  299  清文宗（咸丰）爱新觉罗·奕詝  31  1831年—1861年  清\n",
       "299  300  清穆宗（同治）爱新觉罗·载淳  19  1856年—1875年  清\n",
       "300  301  清德宗（光绪）爱新觉罗·载湉  38  1871年—1908年  清\n",
       "301  302  清逊帝（宣统）爱新觉罗·溥仪  62  1906年—1967年  清"
      ]
     },
     "execution_count": 11,
     "metadata": {},
     "output_type": "execute_result"
    }
   ],
   "source": [
    "mingqing = df[df.朝代.isin([\"明\", \"清\"])]\n",
    "mingqing.tail(10)"
   ]
  },
  {
   "cell_type": "code",
   "execution_count": 12,
   "metadata": {},
   "outputs": [
    {
     "data": {
      "text/html": [
       "<div>\n",
       "<style scoped>\n",
       "    .dataframe tbody tr th:only-of-type {\n",
       "        vertical-align: middle;\n",
       "    }\n",
       "\n",
       "    .dataframe tbody tr th {\n",
       "        vertical-align: top;\n",
       "    }\n",
       "\n",
       "    .dataframe thead th {\n",
       "        text-align: right;\n",
       "    }\n",
       "</style>\n",
       "<table border=\"1\" class=\"dataframe\">\n",
       "  <thead>\n",
       "    <tr style=\"text-align: right;\">\n",
       "      <th></th>\n",
       "      <th>count</th>\n",
       "      <th>min</th>\n",
       "      <th>max</th>\n",
       "      <th>mean</th>\n",
       "      <th>median</th>\n",
       "    </tr>\n",
       "    <tr>\n",
       "      <th>朝代</th>\n",
       "      <th></th>\n",
       "      <th></th>\n",
       "      <th></th>\n",
       "      <th></th>\n",
       "      <th></th>\n",
       "    </tr>\n",
       "  </thead>\n",
       "  <tbody>\n",
       "    <tr>\n",
       "      <td>明</td>\n",
       "      <td>16</td>\n",
       "      <td>23</td>\n",
       "      <td>71</td>\n",
       "      <td>42.187500</td>\n",
       "      <td>38.0</td>\n",
       "    </tr>\n",
       "    <tr>\n",
       "      <td>清</td>\n",
       "      <td>12</td>\n",
       "      <td>19</td>\n",
       "      <td>89</td>\n",
       "      <td>53.333333</td>\n",
       "      <td>59.5</td>\n",
       "    </tr>\n",
       "  </tbody>\n",
       "</table>\n",
       "</div>"
      ],
      "text/plain": [
       "    count  min  max       mean  median\n",
       "朝代                                    \n",
       "明      16   23   71  42.187500    38.0\n",
       "清      12   19   89  53.333333    59.5"
      ]
     },
     "execution_count": 12,
     "metadata": {},
     "output_type": "execute_result"
    }
   ],
   "source": [
    "compare = mingqing.groupby(\"朝代\").寿命.agg([\"count\", \"min\", \"max\", \"mean\", \"median\"])\n",
    "compare"
   ]
  }
 ],
 "metadata": {
  "kernelspec": {
   "display_name": "Python 3",
   "language": "python",
   "name": "python3"
  },
  "language_info": {
   "codemirror_mode": {
    "name": "ipython",
    "version": 3
   },
   "file_extension": ".py",
   "mimetype": "text/x-python",
   "name": "python",
   "nbconvert_exporter": "python",
   "pygments_lexer": "ipython3",
   "version": "3.7.3"
  }
 },
 "nbformat": 4,
 "nbformat_minor": 2
}
