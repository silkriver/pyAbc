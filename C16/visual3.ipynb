{
 "cells": [
  {
   "cell_type": "code",
   "execution_count": 1,
   "metadata": {},
   "outputs": [
    {
     "data": {
      "text/html": [
       "<div>\n",
       "<style scoped>\n",
       "    .dataframe tbody tr th:only-of-type {\n",
       "        vertical-align: middle;\n",
       "    }\n",
       "\n",
       "    .dataframe tbody tr th {\n",
       "        vertical-align: top;\n",
       "    }\n",
       "\n",
       "    .dataframe thead th {\n",
       "        text-align: right;\n",
       "    }\n",
       "</style>\n",
       "<table border=\"1\" class=\"dataframe\">\n",
       "  <thead>\n",
       "    <tr style=\"text-align: right;\">\n",
       "      <th></th>\n",
       "      <th>date</th>\n",
       "      <th>percent</th>\n",
       "    </tr>\n",
       "    <tr>\n",
       "      <th>date</th>\n",
       "      <th></th>\n",
       "      <th></th>\n",
       "    </tr>\n",
       "  </thead>\n",
       "  <tbody>\n",
       "    <tr>\n",
       "      <td>2019-05-30</td>\n",
       "      <td>2019/05/30</td>\n",
       "      <td>0.36</td>\n",
       "    </tr>\n",
       "    <tr>\n",
       "      <td>2019-06-18</td>\n",
       "      <td>2019/06/18</td>\n",
       "      <td>0.37</td>\n",
       "    </tr>\n",
       "    <tr>\n",
       "      <td>2019-07-09</td>\n",
       "      <td>2019/07/09</td>\n",
       "      <td>0.38</td>\n",
       "    </tr>\n",
       "    <tr>\n",
       "      <td>2019-07-31</td>\n",
       "      <td>2019/07/31</td>\n",
       "      <td>0.39</td>\n",
       "    </tr>\n",
       "    <tr>\n",
       "      <td>2019-08-24</td>\n",
       "      <td>2019/08/24</td>\n",
       "      <td>0.40</td>\n",
       "    </tr>\n",
       "  </tbody>\n",
       "</table>\n",
       "</div>"
      ],
      "text/plain": [
       "                  date  percent\n",
       "date                           \n",
       "2019-05-30  2019/05/30     0.36\n",
       "2019-06-18  2019/06/18     0.37\n",
       "2019-07-09  2019/07/09     0.38\n",
       "2019-07-31  2019/07/31     0.39\n",
       "2019-08-24  2019/08/24     0.40"
      ]
     },
     "execution_count": 1,
     "metadata": {},
     "output_type": "execute_result"
    }
   ],
   "source": [
    "# 时间序列数据的处理与可视化\n",
    "import pandas as pd\n",
    "\n",
    "# 读取Python文档翻译项目进度数据，转为时间序列\n",
    "df = pd.read_csv(\"data_python.csv\")\n",
    "df.index = pd.to_datetime(df.date)\n",
    "df.tail()"
   ]
  },
  {
   "cell_type": "code",
   "execution_count": 2,
   "metadata": {},
   "outputs": [
    {
     "data": {
      "image/png": "[encoded data removed]",
      "text/plain": [
       "<Figure size 720x432 with 1 Axes>"
      ]
     },
     "metadata": {},
     "output_type": "display_data"
    }
   ],
   "source": [
    "# 基于时间序列绘制Python文档翻译项目进度图\n",
    "import matplotlib as mpl\n",
    "import matplotlib.pyplot as plt\n",
    "from pandas.plotting import register_matplotlib_converters\n",
    "register_matplotlib_converters()\n",
    "%matplotlib inline\n",
    "\n",
    "plt.style.use(\"ggplot\")\n",
    "plt.figure(figsize=(10, 6))\n",
    "ax = plt.axes()     # 创建轴域使用面向对象接口绘图\n",
    "d = \"2018/11/13\", \"2019/03/30\", \"2019/04/20\", \"2019/08/24\"\n",
    "ax.annotate(\n",
    "    \"10%\", xy=(d[0], .1), xytext=(d[0], .2), ha=\"center\",\n",
    "    arrowprops=dict(arrowstyle=\"simple\"))\n",
    "ax.annotate(\n",
    "    \"20%\", xy=(d[1], .2), xytext=(d[1], .3), ha=\"center\",\n",
    "    arrowprops=dict(arrowstyle=\"simple\"))\n",
    "ax.annotate(\n",
    "    \"30%\", xy=(d[2], .3), xytext=(d[2], .4), ha=\"center\",\n",
    "    arrowprops=dict(arrowstyle=\"simple\"))\n",
    "ax.annotate(\n",
    "    \"40%\", xy=(d[3], .4), xytext=(d[3], .5), ha=\"center\",\n",
    "    arrowprops=dict(arrowstyle=\"simple\"))\n",
    "ax.xaxis.set_major_locator(mpl.dates.MonthLocator())\n",
    "ax.xaxis.set_minor_locator(mpl.dates.MonthLocator(bymonthday=15))\n",
    "ax.xaxis.set_major_formatter(plt.NullFormatter())\n",
    "ax.xaxis.set_minor_formatter(mpl.dates.DateFormatter(\"%Y-%m\"))\n",
    "ax.set(\n",
    "    ylim=(0, 1),\n",
    "    xlim=(pd.to_datetime(\"2018/11/01\"), pd.to_datetime(\"2019/08/31\")))\n",
    "ax.plot(df.index, df.percent, \"go:\", linewidth=2, label=\"python-docs-zh-cn\")\n",
    "ax.fill_between(df.index, df.percent)\n",
    "ax.legend(loc=\"upper left\");"
   ]
  }
 ],
 "metadata": {
  "kernelspec": {
   "display_name": "Python 3",
   "language": "python",
   "name": "python3"
  },
  "language_info": {
   "codemirror_mode": {
    "name": "ipython",
    "version": 3
   },
   "file_extension": ".py",
   "mimetype": "text/x-python",
   "name": "python",
   "nbconvert_exporter": "python",
   "pygments_lexer": "ipython3",
   "version": "3.7.3"
  }
 },
 "nbformat": 4,
 "nbformat_minor": 2
}
