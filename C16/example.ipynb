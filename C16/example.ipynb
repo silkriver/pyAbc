{
 "cells": [
  {
   "cell_type": "code",
   "execution_count": 1,
   "metadata": {},
   "outputs": [
    {
     "data": {
      "text/html": [
       "<b style=\"color:red\">输出超文本</b>"
      ],
      "text/plain": [
       "<IPython.core.display.HTML object>"
      ]
     },
     "execution_count": 1,
     "metadata": {},
     "output_type": "execute_result"
    }
   ],
   "source": [
    "# 代码单元格\n",
    "from IPython.display import HTML\n",
    "content = '<b style=\"color:red\">输出超文本</b>'\n",
    "HTML(content)"
   ]
  },
  {
   "cell_type": "markdown",
   "metadata": {},
   "source": [
    "# 标签单元格\n",
    "## 标签示例\n",
    "这里演示常用的MarkDown（MD）标签\n",
    "\n",
    "运行标签单元格将显示排版后的效果\n",
    "- 可以使用图片、链接和HTML标记<div style=\"float:left\">\n",
    "    ![图片标签](../C08/logo.gif)</div>\n",
    "- [链接到主目录页](../)"
   ]
  },
  {
   "cell_type": "code",
   "execution_count": 2,
   "metadata": {},
   "outputs": [
    {
     "name": "stdout",
     "output_type": "stream",
     "text": [
      "程序文件总个数： 82\n",
      "程序代码总行数： 2589\n"
     ]
    }
   ],
   "source": [
    "# 统计Python练习项目中程序文件总个数与代码总行数\n",
    "import os\n",
    "\n",
    "\n",
    "def main():\n",
    "    filecount = 0\n",
    "    linecount = 0\n",
    "    root = \"../\"\n",
    "    for folder, subfolder, files in os.walk(root):\n",
    "        if folder.endswith(\".git\"):\n",
    "            continue\n",
    "        for file in files:\n",
    "            if file.endswith((\".py\", \".pyw\")):\n",
    "                filecount += 1\n",
    "                with open(os.path.join(folder, file), encoding=\"utf-8\") as f:\n",
    "                    for line in f:\n",
    "                        linecount += 1\n",
    "    print(\"程序文件总个数：\", filecount)\n",
    "    print(\"程序代码总行数：\", linecount)\n",
    "\n",
    "\n",
    "if __name__ == \"__main__\":\n",
    "    main()"
   ]
  }
 ],
 "metadata": {
  "kernelspec": {
   "display_name": "Python 3",
   "language": "python",
   "name": "python3"
  },
  "language_info": {
   "codemirror_mode": {
    "name": "ipython",
    "version": 3
   },
   "file_extension": ".py",
   "mimetype": "text/x-python",
   "name": "python",
   "nbconvert_exporter": "python",
   "pygments_lexer": "ipython3",
   "version": "3.7.3"
  }
 },
 "nbformat": 4,
 "nbformat_minor": 2
}
